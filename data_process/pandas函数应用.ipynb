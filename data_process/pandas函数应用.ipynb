{
 "cells": [
  {
   "cell_type": "code",
   "execution_count": 19,
   "metadata": {
    "scrolled": true
   },
   "outputs": [
    {
     "name": "stdout",
     "output_type": "stream",
     "text": [
      "--------------------------------------------------\n",
      "          a         b         c         d\n",
      "0 -0.959031 -0.486822 -0.089812  0.069867\n",
      "1  0.602470  0.329144 -2.196742 -0.547555\n",
      "2  0.804162 -1.123036 -0.637125  1.286400\n",
      "3  1.479285  0.616287 -1.710338  1.195182\n",
      "4 -1.825563 -0.194394  0.081939  0.835220\n",
      "--------------------------------------------------\n",
      "          a         b         c         d\n",
      "0  0.959031  0.486822  0.089812  0.069867\n",
      "1  0.602470  0.329144  2.196742  0.547555\n",
      "2  0.804162  1.123036  0.637125  1.286400\n",
      "3  1.479285  0.616287  1.710338  1.195182\n",
      "4  1.825563  0.194394  0.081939  0.835220\n",
      "--------------------------------------------------\n",
      "a    1.479285\n",
      "b    0.616287\n",
      "c    0.081939\n",
      "d    1.286400\n",
      "dtype: float64\n",
      "--------------------------------------------------\n",
      "0    0.069867\n",
      "1    0.602470\n",
      "2    1.286400\n",
      "3    1.479285\n",
      "4    0.835220\n",
      "dtype: float64\n",
      "--------------------------------------------------\n",
      "       a      b      c      d\n",
      "0  -0.96  -0.49  -0.09   0.07\n",
      "1   0.60   0.33  -2.20  -0.55\n",
      "2   0.80  -1.12  -0.64   1.29\n",
      "3   1.48   0.62  -1.71   1.20\n",
      "4  -1.83  -0.19   0.08   0.84\n"
     ]
    }
   ],
   "source": [
    "# pandas函数的应用\n",
    "import numpy as np\n",
    "import pandas as pd\n",
    "\n",
    "df = pd.DataFrame(np.random.randn(5,4),columns=['a','b','c','d'])\n",
    "print(\"-\"*50)\n",
    "print(df)\n",
    "print(\"-\"*50)\n",
    "print(np.abs(df))\n",
    "print(\"-\"*50)\n",
    "print(df.apply(lambda x:x.max(),axis=0))\n",
    "print(\"-\"*50)\n",
    "print(df.max(axis=1))\n",
    "print(\"-\"*50)\n",
    "f2 = lambda x:'%.2f' %x\n",
    "print(df.applymap(f2))  # 使用applymap应用到每个数据"
   ]
  },
  {
   "cell_type": "code",
   "execution_count": 37,
   "metadata": {},
   "outputs": [
    {
     "name": "stdout",
     "output_type": "stream",
     "text": [
      "4    10\n",
      "3    11\n",
      "3    12\n",
      "0    13\n",
      "0    14\n",
      "dtype: int64\n",
      "--------------------------------------------------\n",
      "0    13\n",
      "0    14\n",
      "3    11\n",
      "3    12\n",
      "4    10\n",
      "dtype: int64\n",
      "--------------------------------------------------\n",
      "          1         1         2         4         0\n",
      "1 -0.702010 -1.408642  0.529468  0.399408  0.930495\n",
      "1  0.303130  0.194342 -0.409360 -0.463548  1.393992\n",
      "2  0.154405 -1.344669  1.232654 -2.140367  0.200368\n",
      "--------------------------------------------------\n",
      "          1         1         2         4         0\n",
      "2  0.154405 -1.344669  1.232654 -2.140367  0.200368\n",
      "1 -0.702010 -1.408642  0.529468  0.399408  0.930495\n",
      "1  0.303130  0.194342 -0.409360 -0.463548  1.393992\n",
      "--------------------------------------------------\n"
     ]
    }
   ],
   "source": [
    "# 索引排序 sort_index()\n",
    "\n",
    "# 排序默认使用升序排序，ascending=False 为降序排序\n",
    "s4 = pd.Series(range(10, 15), index = np.random.randint(5, size=5))\n",
    "print(s4)\n",
    "print('-'*50)\n",
    "print(s4.sort_index())\n",
    "print('-'*50)\n",
    "# DataFrame\n",
    "df4 = pd.DataFrame(np.random.randn(3, 5), \n",
    "                   index=np.random.randint(3, size=3),\n",
    "                   columns=np.random.randint(5, size=5))\n",
    "print(df4)\n",
    "print('-'*50)\n",
    "df4_isort = df4.sort_index(axis=0,ascending=False)\n",
    "print(df4_isort)\n",
    "print('-'*50)\n",
    "\n",
    "# df4_vsort = df4.sort_values(by=0, ascending=False)  # sort_values(by='column name') 根据某个唯一的列名进行排序，如果有其他相同列名则报错\n",
    "# print(df4_vsort)\n",
    "# print('-'*50)\n"
   ]
  },
  {
   "cell_type": "code",
   "execution_count": 35,
   "metadata": {},
   "outputs": [
    {
     "name": "stdout",
     "output_type": "stream",
     "text": [
      "          0         1         2\n",
      "0  1.103044 -0.927365  0.035182\n",
      "1  1.000000  2.000000       NaN\n",
      "2       NaN  4.000000       NaN\n",
      "3  1.000000  2.000000  3.000000\n",
      "       0      1      2\n",
      "0  False  False  False\n",
      "1  False  False   True\n",
      "2   True  False   True\n",
      "3  False  False  False\n",
      "          0         1         2\n",
      "0  1.103044 -0.927365  0.035182\n",
      "3  1.000000  2.000000  3.000000\n",
      "          1\n",
      "0 -0.927365\n",
      "1  2.000000\n",
      "2  4.000000\n",
      "3  2.000000\n",
      "            0         1           2\n",
      "0    1.103044 -0.927365    0.035182\n",
      "1    1.000000  2.000000 -100.000000\n",
      "2 -100.000000  4.000000 -100.000000\n",
      "3    1.000000  2.000000    3.000000\n"
     ]
    }
   ],
   "source": [
    "# 处理缺失数据\n",
    "df_data = pd.DataFrame([np.random.randn(3), [1., 2., np.nan],\n",
    "                       [np.nan, 4., np.nan], [1., 2., 3.]])\n",
    "print(df_data.head())\n",
    "print(df_data.isnull()) # 判断是否存在缺失数据\n",
    "print(df_data.dropna()) # 默认丢弃存在缺失数据的行\n",
    "\n",
    "print(df_data.dropna(axis=1)) # axis=1 则按列丢弃\n",
    "\n",
    "print(df_data.fillna(-100.)) # 填充"
   ]
  }
 ],
 "metadata": {
  "kernelspec": {
   "display_name": "Python 3",
   "language": "python",
   "name": "python3"
  },
  "language_info": {
   "codemirror_mode": {
    "name": "ipython",
    "version": 3
   },
   "file_extension": ".py",
   "mimetype": "text/x-python",
   "name": "python",
   "nbconvert_exporter": "python",
   "pygments_lexer": "ipython3",
   "version": "3.5.2"
  }
 },
 "nbformat": 4,
 "nbformat_minor": 2
}
