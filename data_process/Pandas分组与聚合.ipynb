{
 "cells": [
  {
   "cell_type": "code",
   "execution_count": 4,
   "metadata": {},
   "outputs": [
    {
     "name": "stdout",
     "output_type": "stream",
     "text": [
      "      data1     data2 key1   key2\n",
      "0  1.395701  1.262266    a    one\n",
      "1  1.597283 -0.592765    b    one\n",
      "2 -1.237836  1.047758    a    two\n",
      "3  0.463443 -0.625627    b  three\n",
      "4  0.494891  0.193080    a    two\n",
      "5 -1.498964  1.656793    b    two\n",
      "6  1.949946 -0.593641    a    one\n",
      "7  0.081225  0.433760    a  three\n",
      "<class 'pandas.core.groupby.generic.DataFrameGroupBy'>\n",
      "<class 'pandas.core.groupby.generic.SeriesGroupBy'>\n"
     ]
    }
   ],
   "source": [
    "import pandas as pd\n",
    "import numpy as np\n",
    "\n",
    "dict_obj = {'key1' : ['a', 'b', 'a', 'b', \n",
    "                      'a', 'b', 'a', 'a'],\n",
    "            'key2' : ['one', 'one', 'two', 'three',\n",
    "                      'two', 'two', 'one', 'three'],\n",
    "            'data1': np.random.randn(8),\n",
    "            'data2': np.random.randn(8)}\n",
    "df_obj = pd.DataFrame(dict_obj)\n",
    "print(df_obj)\n",
    "print(type(df_obj.groupby('key1'))) # dataframe根据key1进行分组\n",
    "\n",
    "print(type(df_obj['data1'].groupby(df_obj['key1']))) # dataframe的 data1 列根据 key1 进行分组"
   ]
  },
  {
   "cell_type": "code",
   "execution_count": 10,
   "metadata": {},
   "outputs": [
    {
     "name": "stdout",
     "output_type": "stream",
     "text": [
      "         data1     data2\n",
      "key1                    \n",
      "a     0.536785  0.468645\n",
      "b     0.187254  0.146134\n",
      "key1\n",
      "a    0.536785\n",
      "b    0.187254\n",
      "Name: data1, dtype: float64\n",
      "--------------------------------------------------\n",
      "key1\n",
      "a    5\n",
      "b    3\n",
      "dtype: int64\n",
      "key1\n",
      "a    5\n",
      "b    3\n",
      "Name: data1, dtype: int64\n"
     ]
    }
   ],
   "source": [
    "# 分组运算\n",
    "# 分组运算\n",
    "grouped1 = df_obj.groupby('key1')\n",
    "print(grouped1.mean())\n",
    "\n",
    "grouped2 = df_obj['data1'].groupby(df_obj['key1'])\n",
    "print(grouped2.mean())\n",
    "print('-'*50)\n",
    "print(grouped1.size())\n",
    "print(grouped2.size())"
   ]
  },
  {
   "cell_type": "code",
   "execution_count": null,
   "metadata": {},
   "outputs": [],
   "source": []
  }
 ],
 "metadata": {
  "kernelspec": {
   "display_name": "Python 3",
   "language": "python",
   "name": "python3"
  },
  "language_info": {
   "codemirror_mode": {
    "name": "ipython",
    "version": 3
   },
   "file_extension": ".py",
   "mimetype": "text/x-python",
   "name": "python",
   "nbconvert_exporter": "python",
   "pygments_lexer": "ipython3",
   "version": "3.5.2"
  }
 },
 "nbformat": 4,
 "nbformat_minor": 2
}
