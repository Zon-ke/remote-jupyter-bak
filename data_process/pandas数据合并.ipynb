{
 "cells": [
  {
   "cell_type": "code",
   "execution_count": 42,
   "metadata": {},
   "outputs": [
    {
     "name": "stdout",
     "output_type": "stream",
     "text": [
      "--------------------------------------------------\n",
      "[[1 1 4 9]\n",
      " [1 9 2 6]\n",
      " [0 6 6 4]]\n",
      "--------------------------------------------------\n",
      "[[0 7 1 9]\n",
      " [5 5 9 7]\n",
      " [9 7 1 3]]\n",
      "--------------------------------------------------\n",
      "[[1 1 4 9]\n",
      " [1 9 2 6]\n",
      " [0 6 6 4]\n",
      " [0 7 1 9]\n",
      " [5 5 9 7]\n",
      " [9 7 1 3]]\n",
      "--------------------------------------------------\n",
      "[[1 1 4 9 0 7 1 9]\n",
      " [1 9 2 6 5 5 9 7]\n",
      " [0 6 6 4 9 7 1 3]]\n",
      "--------------------------------------------------\n"
     ]
    }
   ],
   "source": [
    "import pandas as pd\n",
    "import numpy as np\n",
    "\n",
    "# 数据合并 np.concatenate\n",
    "arr1 = np.random.randint(0, 10, (3,4))\n",
    "arr2 = np.random.randint(0, 10, (3,4))\n",
    "print('-'*50)\n",
    "print(arr1)\n",
    "print('-'*50)\n",
    "print(arr2)\n",
    "print('-'*50)\n",
    "print(np.concatenate([arr1,arr2]))\n",
    "print('-'*50)\n",
    "print(np.concatenate([arr1, arr2], axis = 1))  # 默认为0, 行合并\n",
    "print('-'*50)"
   ]
  },
  {
   "cell_type": "code",
   "execution_count": 43,
   "metadata": {},
   "outputs": [
    {
     "name": "stdout",
     "output_type": "stream",
     "text": [
      "--------------------------------------------------\n",
      "0    9\n",
      "1    3\n",
      "2    4\n",
      "3    2\n",
      "4    2\n",
      "dtype: int64\n",
      "--------------------------------------------------\n",
      "5    6\n",
      "6    6\n",
      "7    8\n",
      "8    1\n",
      "dtype: int64\n",
      "--------------------------------------------------\n",
      "9     1\n",
      "10    3\n",
      "11    8\n",
      "dtype: int64\n",
      "--------------------------------------------------\n",
      "0     9\n",
      "1     3\n",
      "2     4\n",
      "3     2\n",
      "4     2\n",
      "5     6\n",
      "6     6\n",
      "7     8\n",
      "8     1\n",
      "9     1\n",
      "10    3\n",
      "11    8\n",
      "dtype: int64\n",
      "--------------------------------------------------\n",
      "      0    1    2\n",
      "0   9.0  NaN  NaN\n",
      "1   3.0  NaN  NaN\n",
      "2   4.0  NaN  NaN\n",
      "3   2.0  NaN  NaN\n",
      "4   2.0  NaN  NaN\n",
      "5   NaN  6.0  NaN\n",
      "6   NaN  6.0  NaN\n",
      "7   NaN  8.0  NaN\n",
      "8   NaN  1.0  NaN\n",
      "9   NaN  NaN  1.0\n",
      "10  NaN  NaN  3.0\n",
      "11  NaN  NaN  8.0\n",
      "--------------------------------------------------\n"
     ]
    }
   ],
   "source": [
    "# pd.concat\n",
    "# 注意指定轴方向，默认axis=0\n",
    "# join指定合并方式，默认为outer\n",
    "# Series合并时查看行索引有无重复\n",
    "\n",
    "# index 没有重复的情况\n",
    "ser_obj1 = pd.Series(np.random.randint(0, 10, 5), index=range(0,5))\n",
    "ser_obj2 = pd.Series(np.random.randint(0, 10, 4), index=range(5,9))\n",
    "ser_obj3 = pd.Series(np.random.randint(0, 10, 3), index=range(9,12))\n",
    "print('-'*50)\n",
    "print(ser_obj1)\n",
    "print('-'*50)\n",
    "print(ser_obj2)\n",
    "print('-'*50)\n",
    "print(ser_obj3)\n",
    "print('-'*50)\n",
    "print(pd.concat([ser_obj1, ser_obj2, ser_obj3]))\n",
    "print('-'*50)\n",
    "print(pd.concat([ser_obj1, ser_obj2, ser_obj3],axis = 1))\n",
    "print('-'*50)"
   ]
  },
  {
   "cell_type": "code",
   "execution_count": 44,
   "metadata": {},
   "outputs": [
    {
     "name": "stdout",
     "output_type": "stream",
     "text": [
      "--------------------------------------------------\n",
      "0    1\n",
      "1    7\n",
      "2    9\n",
      "3    6\n",
      "4    8\n",
      "dtype: int64\n",
      "--------------------------------------------------\n",
      "0    7\n",
      "1    0\n",
      "2    4\n",
      "3    5\n",
      "dtype: int64\n",
      "--------------------------------------------------\n",
      "0    1\n",
      "1    1\n",
      "2    0\n",
      "dtype: int64\n",
      "--------------------------------------------------\n",
      "0    1\n",
      "1    7\n",
      "2    9\n",
      "3    6\n",
      "4    8\n",
      "0    7\n",
      "1    0\n",
      "2    4\n",
      "3    5\n",
      "0    1\n",
      "1    1\n",
      "2    0\n",
      "dtype: int64\n",
      "--------------------------------------------------\n",
      "   0  1  2\n",
      "0  1  7  1\n",
      "1  7  0  1\n",
      "2  9  4  0\n",
      "--------------------------------------------------\n"
     ]
    }
   ],
   "source": [
    "# index 有重复的情况\n",
    "ser_obj1 = pd.Series(np.random.randint(0, 10, 5), index=range(5))\n",
    "ser_obj2 = pd.Series(np.random.randint(0, 10, 4), index=range(4))\n",
    "ser_obj3 = pd.Series(np.random.randint(0, 10, 3), index=range(3))\n",
    "print('-'*50)\n",
    "print(ser_obj1)\n",
    "print('-'*50)\n",
    "print(ser_obj2)\n",
    "print('-'*50)\n",
    "print(ser_obj3)\n",
    "print('-'*50)\n",
    "print(pd.concat([ser_obj1, ser_obj2,ser_obj3]))\n",
    "print('-'*50)\n",
    "print(pd.concat([ser_obj1,ser_obj2,ser_obj3],axis=1,join='inner'))  # join='inner' 将去除NaN所在的行或列\n",
    "print('-'*50)"
   ]
  },
  {
   "cell_type": "code",
   "execution_count": 45,
   "metadata": {},
   "outputs": [
    {
     "name": "stdout",
     "output_type": "stream",
     "text": [
      "--------------------------------------------------\n",
      "   A  B\n",
      "a  7  8\n",
      "b  2  9\n",
      "c  4  9\n",
      "--------------------------------------------------\n",
      "   C  D\n",
      "a  2  3\n",
      "b  0  7\n",
      "--------------------------------------------------\n",
      "     A    B    C    D\n",
      "a  7.0  8.0  NaN  NaN\n",
      "b  2.0  9.0  NaN  NaN\n",
      "c  4.0  9.0  NaN  NaN\n",
      "a  NaN  NaN  2.0  3.0\n",
      "b  NaN  NaN  0.0  7.0\n",
      "--------------------------------------------------\n",
      "   A  B  C  D\n",
      "a  7  8  2  3\n",
      "b  2  9  0  7\n",
      "--------------------------------------------------\n"
     ]
    },
    {
     "name": "stderr",
     "output_type": "stream",
     "text": [
      "/usr/local/lib/python3.5/dist-packages/ipykernel_launcher.py:10: FutureWarning: Sorting because non-concatenation axis is not aligned. A future version\n",
      "of pandas will change to not sort by default.\n",
      "\n",
      "To accept the future behavior, pass 'sort=False'.\n",
      "\n",
      "To retain the current behavior and silence the warning, pass 'sort=True'.\n",
      "\n",
      "  # Remove the CWD from sys.path while we load stuff.\n"
     ]
    }
   ],
   "source": [
    "df_obj1 = pd.DataFrame(np.random.randint(0, 10, (3, 2)), index=['a', 'b', 'c'],\n",
    "                       columns=['A', 'B'])\n",
    "df_obj2 = pd.DataFrame(np.random.randint(0, 10, (2, 2)), index=['a', 'b'],\n",
    "                       columns=['C', 'D'])\n",
    "print('-'*50)\n",
    "print(df_obj1)\n",
    "print('-'*50)\n",
    "print(df_obj2)\n",
    "print('-'*50)\n",
    "print(pd.concat([df_obj1, df_obj2]))\n",
    "print('-'*50)\n",
    "print(pd.concat([df_obj1, df_obj2], axis=1, join='inner'))\n",
    "print('-'*50)\n"
   ]
  },
  {
   "cell_type": "code",
   "execution_count": null,
   "metadata": {},
   "outputs": [],
   "source": []
  }
 ],
 "metadata": {
  "kernelspec": {
   "display_name": "Python 3",
   "language": "python",
   "name": "python3"
  },
  "language_info": {
   "codemirror_mode": {
    "name": "ipython",
    "version": 3
   },
   "file_extension": ".py",
   "mimetype": "text/x-python",
   "name": "python",
   "nbconvert_exporter": "python",
   "pygments_lexer": "ipython3",
   "version": "3.5.2"
  }
 },
 "nbformat": 4,
 "nbformat_minor": 2
}
