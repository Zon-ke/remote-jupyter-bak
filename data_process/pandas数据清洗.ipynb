{
 "cells": [
  {
   "cell_type": "code",
   "execution_count": 4,
   "metadata": {
    "scrolled": true
   },
   "outputs": [
    {
     "name": "stdout",
     "output_type": "stream",
     "text": [
      "--------------------------------------------------\n",
      "   data1 key\n",
      "0      1   b\n",
      "1      0   b\n",
      "2      7   a\n",
      "3      8   c\n",
      "4      2   a\n",
      "5      5   a\n",
      "6      0   b\n",
      "--------------------------------------------------\n",
      "   data2 key\n",
      "0      2   a\n",
      "1      8   b\n",
      "2      3   d\n",
      "--------------------------------------------------\n",
      "   data1 key  data2\n",
      "0      1   b      8\n",
      "1      0   b      8\n",
      "2      0   b      8\n",
      "3      7   a      2\n",
      "4      2   a      2\n",
      "5      5   a      2\n",
      "--------------------------------------------------\n",
      "   data1 key  data2\n",
      "0      1   b      8\n",
      "1      0   b      8\n",
      "2      0   b      8\n",
      "3      7   a      2\n",
      "4      2   a      2\n",
      "5      5   a      2\n",
      "--------------------------------------------------\n"
     ]
    }
   ],
   "source": [
    "import pandas as pd\n",
    "import numpy as np\n",
    "# 默认将重叠列的列名作为“外键”进行连接,即结果中的键是交集\n",
    "df_obj1 = pd.DataFrame({'key': ['b', 'b', 'a', 'c', 'a', 'a', 'b'],\n",
    "                        'data1' : np.random.randint(0,10,7)})\n",
    "df_obj2 = pd.DataFrame({'key': ['a', 'b', 'd'],\n",
    "                        'data2' : np.random.randint(0,10,3)})  # df_obj里面没有c,意味着新的dataframe里不会再出现有c的那行数据\n",
    "print('-'*50)\n",
    "\n",
    "print(df_obj1)\n",
    "print('-'*50)\n",
    "\n",
    "print(df_obj2)\n",
    "print('-'*50)\n",
    "\n",
    "print(pd.merge(df_obj1,df_obj2))\n",
    "print('-'*50)\n",
    "\n",
    "print(pd.merge(df_obj1, df_obj2, on='key'))\n",
    "print('-'*50)\n"
   ]
  },
  {
   "cell_type": "code",
   "execution_count": 6,
   "metadata": {},
   "outputs": [
    {
     "name": "stdout",
     "output_type": "stream",
     "text": [
      "--------------------------------------------------\n",
      "   data1 key1  data2 key2\n",
      "0      1    b      8    b\n",
      "1      0    b      8    b\n",
      "2      0    b      8    b\n",
      "3      7    a      2    a\n",
      "4      2    a      2    a\n",
      "5      5    a      2    a\n",
      "--------------------------------------------------\n",
      "   data1 key1  data2 key2\n",
      "0    1.0    b    8.0    b\n",
      "1    0.0    b    8.0    b\n",
      "2    0.0    b    8.0    b\n",
      "3    7.0    a    2.0    a\n",
      "4    2.0    a    2.0    a\n",
      "5    5.0    a    2.0    a\n",
      "6    8.0    c    NaN  NaN\n",
      "7    NaN  NaN    3.0    d\n",
      "--------------------------------------------------\n"
     ]
    }
   ],
   "source": [
    "# left_on，right_on分别指定左侧数据和右侧数据的“外键”\n",
    "# how指定连接方式\n",
    "# 默认是“内连接”(inner)，即结果中的键是交集,\"外连接\"(outer),结果中的键是并集\n",
    "# 更改列名\n",
    "df_obj1 = df_obj1.rename(columns={'key':'key1'})\n",
    "df_obj2 = df_obj2.rename(columns={'key':'key2'})\n",
    "print('-'*50)\n",
    "\n",
    "print(pd.merge(df_obj1, df_obj2, left_on='key1', right_on='key2'))\n",
    "print('-'*50)\n",
    "print(pd.merge(df_obj1, df_obj2, left_on='key1', right_on='key2',how = 'outer'))\n",
    "print('-'*50)\n"
   ]
  },
  {
   "cell_type": "code",
   "execution_count": 10,
   "metadata": {},
   "outputs": [
    {
     "name": "stdout",
     "output_type": "stream",
     "text": [
      "   data1 key1  data2 key2\n",
      "0      1    b    8.0    b\n",
      "1      0    b    8.0    b\n",
      "2      7    a    2.0    a\n",
      "3      8    c    NaN  NaN\n",
      "4      2    a    2.0    a\n",
      "5      5    a    2.0    a\n",
      "6      0    b    8.0    b\n",
      "   data1 key1  data2 key2\n",
      "0    1.0    b      8    b\n",
      "1    0.0    b      8    b\n",
      "2    0.0    b      8    b\n",
      "3    7.0    a      2    a\n",
      "4    2.0    a      2    a\n",
      "5    5.0    a      2    a\n",
      "6    NaN  NaN      3    d\n"
     ]
    }
   ],
   "source": [
    "# 左连接\n",
    "print(pd.merge(df_obj1, df_obj2, left_on='key1', right_on='key2', how='left'))\n",
    "\n",
    "# 右连接\n",
    "print(pd.merge(df_obj1, df_obj2, left_on='key1', right_on='key2', how='right'))"
   ]
  },
  {
   "cell_type": "code",
   "execution_count": 11,
   "metadata": {},
   "outputs": [
    {
     "name": "stdout",
     "output_type": "stream",
     "text": [
      "   data_left key  data_right\n",
      "0          2   b           5\n",
      "1          6   b           5\n",
      "2          5   b           5\n",
      "3          1   a           7\n",
      "4          7   a           7\n",
      "5          8   a           7\n"
     ]
    }
   ],
   "source": [
    "# 处理重复列名\n",
    "# suffixes(后缀)，默认为_x, _y\n",
    "df_obj1 = pd.DataFrame({'key': ['b', 'b', 'a', 'c', 'a', 'a', 'b'],\n",
    "                        'data' : np.random.randint(0,10,7)})\n",
    "df_obj2 = pd.DataFrame({'key': ['a', 'b', 'd'],\n",
    "                        'data' : np.random.randint(0,10,3)})\n",
    "print(pd.merge(df_obj1, df_obj2, on='key', suffixes=('_left', '_right')))"
   ]
  },
  {
   "cell_type": "code",
   "execution_count": 20,
   "metadata": {
    "scrolled": true
   },
   "outputs": [
    {
     "name": "stdout",
     "output_type": "stream",
     "text": [
      "--------------------------------------------------\n",
      "   data1 key\n",
      "0      3   b\n",
      "1      6   b\n",
      "2      1   a\n",
      "3      2   c\n",
      "4      9   a\n",
      "5      0   a\n",
      "6      0   b\n",
      "--------------------------------------------------\n",
      "   data2\n",
      "a      6\n",
      "b      2\n",
      "d      4\n",
      "--------------------------------------------------\n",
      "   data1 key  data2\n",
      "0      3   b      2\n",
      "1      6   b      2\n",
      "6      0   b      2\n",
      "2      1   a      6\n",
      "4      9   a      6\n",
      "5      0   a      6\n",
      "--------------------------------------------------\n"
     ]
    }
   ],
   "source": [
    "# 安索引连接  left_index= True  right_index= True  键 取交集\n",
    "df_obj1 = pd.DataFrame({'key': ['b', 'b', 'a', 'c', 'a', 'a', 'b'],\n",
    "                        'data1' : np.random.randint(0,10,7)})\n",
    "print('-'*50)\n",
    "\n",
    "print(df_obj1)\n",
    "print('-'*50)\n",
    "df_obj2 = pd.DataFrame({'data2' : np.random.randint(0,10,3)}, index=['a', 'b', 'd'])\n",
    "print(df_obj2)\n",
    "print('-'*50)\n",
    "\n",
    "print(pd.merge(df_obj1, df_obj2, left_on='key', right_index=True))\n",
    "print('-'*50)\n"
   ]
  }
 ],
 "metadata": {
  "kernelspec": {
   "display_name": "Python 3",
   "language": "python",
   "name": "python3"
  },
  "language_info": {
   "codemirror_mode": {
    "name": "ipython",
    "version": 3
   },
   "file_extension": ".py",
   "mimetype": "text/x-python",
   "name": "python",
   "nbconvert_exporter": "python",
   "pygments_lexer": "ipython3",
   "version": "3.5.2"
  }
 },
 "nbformat": 4,
 "nbformat_minor": 2
}
