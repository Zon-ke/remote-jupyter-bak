{
 "cells": [
  {
   "cell_type": "code",
   "execution_count": 1,
   "metadata": {},
   "outputs": [
    {
     "name": "stdout",
     "output_type": "stream",
     "text": [
      "[[0.57814059 0.7049754  0.94819213 0.84504776]\n",
      " [0.97333242 0.82633457 0.68590173 0.76083025]\n",
      " [0.75456251 0.71536065 0.94883704 0.42803013]]\n",
      "<class 'numpy.ndarray'>\n"
     ]
    }
   ],
   "source": [
    "import numpy as np\n",
    "arr = np.random.rand(3,4)\n",
    "print(arr)\n",
    "print(type(arr))"
   ]
  },
  {
   "cell_type": "code",
   "execution_count": 10,
   "metadata": {},
   "outputs": [
    {
     "name": "stdout",
     "output_type": "stream",
     "text": [
      "[[5 2 1 0]\n",
      " [3 5 4 0]\n",
      " [1 2 3 2]]\n"
     ]
    }
   ],
   "source": [
    "arr = np.random.randint(-1, 6, size = (3, 4)) # 可以不写 ‘size=’\n",
    "print(arr)"
   ]
  },
  {
   "cell_type": "code",
   "execution_count": 9,
   "metadata": {},
   "outputs": [
    {
     "name": "stdout",
     "output_type": "stream",
     "text": [
      "[[ 2  4  2  2]\n",
      " [ 4  1 -1  0]\n",
      " [ 1 -1 -1  1]]\n",
      "维度个数： 2\n",
      "维度大小： (3, 4)\n",
      "数据类型： int32\n"
     ]
    }
   ],
   "source": [
    "arr = np.random.randint(-1, 5, (3, 4))\n",
    "print(arr)\n",
    "print(\"维度个数：\", arr.ndim)\n",
    "print(\"维度大小：\", arr.shape)\n",
    "print(\"数据类型：\", arr.dtype)"
   ]
  },
  {
   "cell_type": "code",
   "execution_count": 11,
   "metadata": {},
   "outputs": [
    {
     "name": "stdout",
     "output_type": "stream",
     "text": [
      "[[ 2.21803673  0.9407816   4.39452697  4.83967235]\n",
      " [-0.84245857  2.30088684  2.40565692 -0.31444543]\n",
      " [ 1.01301289  0.37818359  0.69712264 -0.13615582]]\n",
      "维度个数： 2\n",
      "维度大小： (3, 4)\n",
      "数据类型： float64\n"
     ]
    }
   ],
   "source": [
    "arr = np.random.uniform(-1, 5, (3, 4))\n",
    "print(arr)\n",
    "print(\"维度个数：\", arr.ndim)\n",
    "print(\"维度大小：\", arr.shape)\n",
    "print(\"数据类型：\", arr.dtype)"
   ]
  },
  {
   "cell_type": "code",
   "execution_count": null,
   "metadata": {},
   "outputs": [],
   "source": []
  }
 ],
 "metadata": {
  "kernelspec": {
   "display_name": "Python 3",
   "language": "python",
   "name": "python3"
  },
  "language_info": {
   "codemirror_mode": {
    "name": "ipython",
    "version": 3
   },
   "file_extension": ".py",
   "mimetype": "text/x-python",
   "name": "python",
   "nbconvert_exporter": "python",
   "pygments_lexer": "ipython3",
   "version": "3.5.2"
  }
 },
 "nbformat": 4,
 "nbformat_minor": 2
}
