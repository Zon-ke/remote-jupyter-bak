{
 "cells": [
  {
   "cell_type": "code",
   "execution_count": 8,
   "metadata": {},
   "outputs": [
    {
     "name": "stdout",
     "output_type": "stream",
     "text": [
      "--------------------------------------------------\n",
      "   data1  data2\n",
      "0      7      6\n",
      "1      6      1\n",
      "2      0      2\n",
      "3      0      4\n",
      "4      4      1\n",
      "--------------------------------------------------\n",
      "--------------------------------------------------\n",
      "0  data1    7\n",
      "   data2    6\n",
      "1  data1    6\n",
      "   data2    1\n",
      "2  data1    0\n",
      "   data2    2\n",
      "3  data1    0\n",
      "   data2    4\n",
      "4  data1    4\n",
      "   data2    1\n",
      "dtype: int64\n",
      "--------------------------------------------------\n"
     ]
    }
   ],
   "source": [
    "# 将列索引旋转为行索引，完成层级索引\n",
    "# DataFrame->Series\n",
    "import pandas as pd\n",
    "import numpy as np\n",
    "\n",
    "df_obj = pd.DataFrame(np.random.randint(0, 10, (5,2)),columns=['data1','data2'])\n",
    "print('-'*50)\n",
    "print(df_obj)\n",
    "print('-'*50)\n",
    "stacked = df_obj.stack()\n",
    "print('-'*50)\n",
    "print(stacked)\n",
    "print('-'*50)\n"
   ]
  },
  {
   "cell_type": "code",
   "execution_count": 11,
   "metadata": {},
   "outputs": [
    {
     "name": "stdout",
     "output_type": "stream",
     "text": [
      "--------------------------------------------------\n",
      "   data1  data2\n",
      "0      7      6\n",
      "1      6      1\n",
      "2      0      2\n",
      "3      0      4\n",
      "4      4      1\n",
      "--------------------------------------------------\n",
      "       0  1  2  3  4\n",
      "data1  7  6  0  0  4\n",
      "data2  6  1  2  4  1\n",
      "--------------------------------------------------\n",
      "   data1  data2\n",
      "0      7      6\n",
      "1      6      1\n",
      "2      0      2\n",
      "3      0      4\n",
      "4      4      1\n",
      "--------------------------------------------------\n"
     ]
    }
   ],
   "source": [
    "# 将层级索引展开\n",
    "# Series->DataFrame\n",
    "# 默认操作内层索引，即level=-1\n",
    "print('-'*50)\n",
    "print(stacked.unstack())\n",
    "print('-'*50)\n",
    "print(stacked.unstack(level=0))\n",
    "print('-'*50)\n",
    "print(stacked.unstack(level=-1))\n",
    "print('-'*50)"
   ]
  },
  {
   "cell_type": "code",
   "execution_count": null,
   "metadata": {},
   "outputs": [],
   "source": []
  }
 ],
 "metadata": {
  "kernelspec": {
   "display_name": "Python 3",
   "language": "python",
   "name": "python3"
  },
  "language_info": {
   "codemirror_mode": {
    "name": "ipython",
    "version": 3
   },
   "file_extension": ".py",
   "mimetype": "text/x-python",
   "name": "python",
   "nbconvert_exporter": "python",
   "pygments_lexer": "ipython3",
   "version": "3.5.2"
  }
 },
 "nbformat": 4,
 "nbformat_minor": 2
}
