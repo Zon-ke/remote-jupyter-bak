{
 "cells": [
  {
   "cell_type": "markdown",
   "metadata": {},
   "source": [
    "```python\n",
    "import json\n",
    "\n",
    "file_path = \"./json.txt\"\n",
    "with open(file_path, 'r') as f:\n",
    "    json_str = json.load(f)  # 这串东西原来是只有一对键值的字典,惊了\n",
    "    # print(json_str['Instances'])  # 字典取值, 这个json的本质: { \"Instances\": [大表哥一对括号框住了全世界,所有值都在这大表哥肚子里了,包括 {字典},[列表] 等大小喽喽]}\n",
    "    # print(type(json_str['Instances']))\n",
    "\n",
    "    for i in range(len(json_str[\"Instances\"])):  # 这大表哥长度为三,2333\n",
    "        dict2 = json_str['Instances'][\n",
    "            i]  # 大表哥结构[index[0]={'State':'RUNNING',...,'PublicDnsName':....},index[1]={同0结构},index[2]={同1结构}]\n",
    "        print('-' * 50)  # 分割线,无实际意义\n",
    "        wow = dict2['Status']['State']  # 列表里的字典里的字典,找到字典,再按键取值{'Instances':[ {'Status':{'State':(this)},..}, {}, {} ] }\n",
    "        # print(\"State:%s is exist\" % wow)\n",
    "        if dict2['Status']['State'] == \"RUNNING\":\n",
    "            w = dict2[\"PublicDnsName\"]\n",
    "            print(w, type(w))  # 把人犯('PublicDnsName')拉出来, 并:堂下所跪何人(str否?)\n",
    "```"
   ]
  },
  {
   "cell_type": "code",
   "execution_count": 56,
   "metadata": {},
   "outputs": [
    {
     "name": "stdout",
     "output_type": "stream",
     "text": [
      "{'Instances': [{'PrivateDnsName': 'ip-172-31-27-179.cn-north-1.compute.internal', 'Status': {'State': 'RUNNING', 'StateChangeReason': {}, 'Timeline': {'ReadyDateTime': 1558943211.521, 'CreationDateTime': 1558942870.745}}, 'PrivateIpAddress': '172.31.27.179', 'EbsVolumes': [], 'PublicDnsName': 'ec2-52-80-230-153.cn-north-1.compute.amazonaws.com.cn', 'InstanceType': 'm1.medium', 'InstanceGroupId': 'ig-1QKXPS5CL7FRG', 'PublicIpAddress': '52.80.230.153', 'Ec2InstanceId': 'i-004e72fecf0b84d3c', 'Id': 'ci-1JX8WGJ35DNKY', 'Market': 'ON_DEMAND'}, {'PrivateDnsName': 'ip-172-31-29-115.cn-north-1.compute.internal', 'Status': {'State': 'RUNNING', 'StateChangeReason': {}, 'Timeline': {'ReadyDateTime': 1558943211.522, 'CreationDateTime': 1558942870.745}}, 'PrivateIpAddress': '172.31.29.115', 'EbsVolumes': [], 'PublicDnsName': 'ec2-52-81-104-7.cn-north-1.compute.amazonaws.com.cn', 'InstanceType': 'm1.medium', 'InstanceGroupId': 'ig-1QKXPS5CL7FRG', 'PublicIpAddress': '52.81.104.7', 'Ec2InstanceId': 'i-0d14915a13f2d2eaf', 'Id': 'ci-1O3F23IBIJC3O', 'Market': 'ON_DEMAND'}, {'PrivateDnsName': 'ip-172-31-29-99.cn-north-1.compute.internal', 'Status': {'State': 'RUNNING', 'StateChangeReason': {}, 'Timeline': {'ReadyDateTime': 1558943355.966, 'CreationDateTime': 1558942901.945}}, 'PrivateIpAddress': '172.31.29.99', 'EbsVolumes': [], 'PublicDnsName': 'ec2-52-81-64-216.cn-north-1.compute.amazonaws.com.cn', 'InstanceType': 'm1.medium', 'InstanceGroupId': 'ig-16DHFWYDMOKEC', 'PublicIpAddress': '52.81.64.216', 'Ec2InstanceId': 'i-06459f1c620dbeb0c', 'Id': 'ci-N9JL1BBIBTAU', 'Market': 'ON_DEMAND'}]}\n",
      "<class 'list'>\n",
      "['Instances']\n"
     ]
    }
   ],
   "source": [
    "import json\n",
    "\n",
    "file_path = \"./json.txt\"\n",
    "with open(file_path, 'r') as f:\n",
    "    json_str = json.load(f)  # 这串东西原来是只有一对键值的字典,惊了\n",
    "    # print(json_str['Instances'])  # 字典取值, 这个json的本质: { \"Instances\": [大表哥一对括号框住了全世界,所有值都在这大表哥肚子里了,包括 {字典},[列表] 等大小喽喽]}\n",
    "    # print(type(json_str['Instances']))\n",
    "\n",
    "    for i in range(len(json_str[\"Instances\"])):  # 这大表哥长度为三,2333\n",
    "        dict2 = json_str['Instances'][\n",
    "            i]  # 大表哥结构[index[0]={'State':'RUNNING',...,'PublicDnsName':....},index[1]={同0结构},index[2]={同1结构}]\n",
    "        print('-' * 50)  # 分割线,无实际意义\n",
    "        wow = dict2['Status']['State']  # 列表里的字典里的字典,找到字典,再按键取值{'Instances':[ {'Status':{'State':(this)},..}, {}, {} ] }\n",
    "        # print(\"State:%s is exist\" % wow)\n",
    "        if dict2['Status']['State'] == \"RUNNING\":\n",
    "            w = dict2[\"PublicDnsName\"]\n",
    "            print(w, type(w))  # 把人犯('PublicDnsName')拉出来, 并:堂下所跪何人(str否?)"
   ]
  },
  {
   "cell_type": "code",
   "execution_count": null,
   "metadata": {},
   "outputs": [],
   "source": []
  }
 ],
 "metadata": {
  "kernelspec": {
   "display_name": "Python 3",
   "language": "python",
   "name": "python3"
  },
  "language_info": {
   "codemirror_mode": {
    "name": "ipython",
    "version": 3
   },
   "file_extension": ".py",
   "mimetype": "text/x-python",
   "name": "python",
   "nbconvert_exporter": "python",
   "pygments_lexer": "ipython3",
   "version": "3.5.2"
  }
 },
 "nbformat": 4,
 "nbformat_minor": 2
}
