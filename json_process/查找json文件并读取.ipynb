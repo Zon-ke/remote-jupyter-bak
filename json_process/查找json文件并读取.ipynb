{
 "cells": [
  {
   "cell_type": "markdown",
   "metadata": {},
   "source": [
    "## `关于路径问题`\n",
    "- 因为jupyter 知识一个前端的工具,其代码还是传送到ipython中进行运行,所以在jupyter中但凡写路径一定要注意,一定要写绝对路径\n",
    "    - 例如:当前文件位置是:./jupyter-notebook/json_process\n",
    "    - 如果在当前文件位置处写 ./  其实指向的是/root\n",
    "    - os.getcwd() 函数可以很好的佐证这一点\n",
    "    \n",
    "    "
   ]
  },
  {
   "cell_type": "code",
   "execution_count": 35,
   "metadata": {},
   "outputs": [
    {
     "data": {
      "text/plain": [
       "'/root'"
      ]
     },
     "execution_count": 35,
     "metadata": {},
     "output_type": "execute_result"
    }
   ],
   "source": [
    "os.getcwd()"
   ]
  },
  {
   "cell_type": "code",
   "execution_count": null,
   "metadata": {},
   "outputs": [],
   "source": [
    "import os\n",
    "# os.walk 函数\n",
    "for foldername, subfolders,filenames in os.walk('./jupyter-notebook/json_process'):\n",
    "    print('-'*20)\n",
    "    print(foldername)  # 实际是当次遍历的目录的相对路径\n",
    "    print('-'*20)\n",
    "\n",
    "   \n",
    "    print(subfolders) # 当前文件夹下的子文件夹名\n",
    "    print('-'*20)\n",
    "\n",
    "    print(filenames)  # 当前文件夹下的子文件名\n",
    "    print('^'*50)"
   ]
  },
  {
   "cell_type": "code",
   "execution_count": 36,
   "metadata": {},
   "outputs": [],
   "source": [
    "import json\n",
    "import os, re\n",
    "# 请勿在本环境下运行这段代码,此处仅作备份\n",
    "files = os.listdir(os.getcwd())  \n",
    "# os.getcwd() 获取当前工作路径 ,此段代码只适合在IDE或sublime中使用.此处会存在上面笔记中所述的问题\n",
    "# print(files)\n",
    "# print('-'*50)\n",
    "filesList = []\n",
    "for i in files:\n",
    "    if (re.match('.*.java.json', i)):  # 这里是获取.java.json文件\n",
    "        filesList.append(i)\n",
    "# print(filesList)\n",
    "for file_path in filesList:\n",
    "    # file_path = \"./DiffExecutorConfigurationSupport.java.json\"\n",
    "    print(\">>>>\"*10+file_path+\"<<<<\"*10)\n",
    "    with open(file_path,'r') as load_f:\n",
    "        load_json = json.load(load_f)\n",
    "        # print(load_json)\n",
    "\n",
    "    print('-'*50)\n",
    "    # print(load_json)\n",
    "    # print(len(load_json))\n",
    "    for i in range(5):\n",
    "        # print(i)\n",
    "        print(load_json[i][\"description\"])\n",
    "        # print(type(load_json[i]))\n",
    "        print('-'*50)\n"
   ]
  },
  {
   "cell_type": "code",
   "execution_count": null,
   "metadata": {},
   "outputs": [],
   "source": [
    "import os\n",
    "import re\n",
    "import json\n",
    "\n",
    "# 请勿在本环境下运行这段代码,此处仅作备份\n",
    "for parent, dirnames, filenames in os.walk('./'):\n",
    "   \n",
    "    filesList = []\n",
    "    for filename in filenames:\n",
    "        \n",
    "        if re.match('.*\\.java\\.json', filename):\n",
    "            filesList.append(filename)\n",
    "        \n",
    "        for file_name in filesList:\n",
    "            file_path = os.path.join(parent,filename)\n",
    "\n",
    "            with open(file_path, 'r') as load_f:\n",
    "                load_json = json.load(load_f)\n",
    "                a = len(load_json)\n",
    "                #\n",
    "                for i in range(a):\n",
    "                    print(\"range:\", load_json[i][\"range\"])\n",
    "                    print(\"Description:\", load_json[i][\"description\"])\n",
    "                    print(\">\")\n",
    "\n",
    "                print('- '*30)"
   ]
  }
 ],
 "metadata": {
  "kernelspec": {
   "display_name": "Python 3",
   "language": "python",
   "name": "python3"
  },
  "language_info": {
   "codemirror_mode": {
    "name": "ipython",
    "version": 3
   },
   "file_extension": ".py",
   "mimetype": "text/x-python",
   "name": "python",
   "nbconvert_exporter": "python",
   "pygments_lexer": "ipython3",
   "version": "3.5.2"
  }
 },
 "nbformat": 4,
 "nbformat_minor": 2
}
