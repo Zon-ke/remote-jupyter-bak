{
 "cells": [
  {
   "cell_type": "code",
   "execution_count": 9,
   "metadata": {},
   "outputs": [
    {
     "name": "stdout",
     "output_type": "stream",
     "text": [
      "--------------------------------------------------\n",
      "a  0    0.422020\n",
      "   1   -0.115863\n",
      "   2   -0.643692\n",
      "b  0   -1.057563\n",
      "   1   -0.757237\n",
      "   2    1.802911\n",
      "c  0    0.652545\n",
      "   1    0.309615\n",
      "   2    1.337396\n",
      "d  0   -1.606998\n",
      "   1   -0.126213\n",
      "   2    0.344882\n",
      "dtype: float64\n",
      "--------------------------------------------------\n",
      "0    0.652545\n",
      "1    0.309615\n",
      "2    1.337396\n",
      "dtype: float64\n",
      "--------------------------------------------------\n",
      "a   -0.643692\n",
      "b    1.802911\n",
      "c    1.337396\n",
      "d    0.344882\n",
      "dtype: float64\n",
      "--------------------------------------------------\n",
      "0  a    0.422020\n",
      "1  a   -0.115863\n",
      "2  a   -0.643692\n",
      "0  b   -1.057563\n",
      "1  b   -0.757237\n",
      "2  b    1.802911\n",
      "0  c    0.652545\n",
      "1  c    0.309615\n",
      "2  c    1.337396\n",
      "0  d   -1.606998\n",
      "1  d   -0.126213\n",
      "2  d    0.344882\n",
      "dtype: float64\n",
      "--------------------------------------------------\n",
      "0  a    0.422020\n",
      "   b   -1.057563\n",
      "   c    0.652545\n",
      "   d   -1.606998\n",
      "1  a   -0.115863\n",
      "   b   -0.757237\n",
      "   c    0.309615\n",
      "   d   -0.126213\n",
      "2  a   -0.643692\n",
      "   b    1.802911\n",
      "   c    1.337396\n",
      "   d    0.344882\n",
      "dtype: float64\n",
      "--------------------------------------------------\n"
     ]
    }
   ],
   "source": [
    "import numpy as np\n",
    "import pandas as pd\n",
    "\n",
    "ser_obj = pd.Series(np.random.randn(12),index=[\n",
    "                ['a', 'a', 'a', 'b', 'b', 'b', 'c', 'c', 'c', 'd', 'd', 'd'],\n",
    "                [0, 1, 2, 0, 1, 2, 0, 1, 2, 0, 1, 2]\n",
    "            ])\n",
    "print(\"-\"*50)\n",
    "\n",
    "print(ser_obj)\n",
    "print(\"-\"*50)\n",
    "print(ser_obj['c'])  # 外层选取\n",
    "print(\"-\"*50)\n",
    "print(ser_obj[:, 2])  # 内层选取\n",
    "print(\"-\"*50)\n",
    "print(ser_obj.swaplevel())\n",
    "print(\"-\"*50)\n",
    "print(ser_obj.swaplevel().sort_index())  # 交换并排序分层\n",
    "print(\"-\"*50)\n"
   ]
  },
  {
   "cell_type": "code",
   "execution_count": 10,
   "metadata": {},
   "outputs": [
    {
     "name": "stdout",
     "output_type": "stream",
     "text": [
      "50\n"
     ]
    }
   ],
   "source": []
  }
 ],
 "metadata": {
  "kernelspec": {
   "display_name": "Python 3",
   "language": "python",
   "name": "python3"
  },
  "language_info": {
   "codemirror_mode": {
    "name": "ipython",
    "version": 3
   },
   "file_extension": ".py",
   "mimetype": "text/x-python",
   "name": "python",
   "nbconvert_exporter": "python",
   "pygments_lexer": "ipython3",
   "version": "3.5.2"
  }
 },
 "nbformat": 4,
 "nbformat_minor": 2
}
