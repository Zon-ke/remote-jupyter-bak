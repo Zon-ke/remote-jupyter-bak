{
 "cells": [
  {
   "cell_type": "code",
   "execution_count": 10,
   "metadata": {},
   "outputs": [
    {
     "name": "stdout",
     "output_type": "stream",
     "text": [
      "Your flag is PCTF{9680cd04c843a265}\n",
      "Ciphertext:16212507174699188262\t key is:12044186052925586642\t\n",
      "Ciphertext:17296996921083133053\t key is:4373757232700391101\t\n",
      "Ciphertext:1504108002213169042\t key is:9602297327645879753\t\n",
      "Ciphertext:15311657821575718696\t key is:15521793072152194667\t\n",
      "Ciphertext:15053159367158012091\t key is:9290522590443138847\t\n",
      "Ciphertext:16355187133326761237\t key is:5141539571633073922\t\n",
      "Ciphertext:1440399411184976800\t key is:2360232482470268008\t\n",
      "Ciphertext:10850594820347269220\t key is:1124235088812093687\t\n",
      "Ciphertext:13108950319951111064\t key is:3267932793383082806\t\n",
      "Ciphertext:15342112823814346052\t key is:7612214049327960084\t\n",
      "Ciphertext:597955620421898549\t key is:17538526621034548622\t\n",
      "Ciphertext:8064688319969233940\t key is:5363162663288773477\t\n",
      "Ciphertext:6089848380171142865\t key is:16341562538125223763\t\n",
      "Ciphertext:14884593512897061995\t key is:9782108210408199417\t\n",
      "Ciphertext:8573437835155236142\t key is:18012350058274720867\t\n",
      "Ciphertext:4451651881832033518\t key is:2412844814789879012\t\n"
     ]
    }
   ],
   "source": [
    "#!/usr/bin/env python3.6\n",
    "import os\n",
    "import time as t\n",
    "BLOCK_SIZE = 64\n",
    "\n",
    "T = [\n",
    "    ((2, 1), 1),\n",
    "    ((5, 0), 0),\n",
    "    ((3, 4), 0),\n",
    "    ((1, 5), 1),\n",
    "    ((0, 3), 1),\n",
    "    ((4, 2), 0),\n",
    "]\n",
    "\n",
    "\n",
    "def block2bin(b, length=BLOCK_SIZE):\n",
    "    return list(map(int, bin(b)[2:].rjust(length, '0')))\n",
    "\n",
    "\n",
    "def bin2block(b):\n",
    "    return int(\"\".join(map(str, b)), 2)\n",
    "\n",
    "\n",
    "def transduce(b, s=0):\n",
    "    if len(b) == 0:\n",
    "        return b\n",
    "    d, t = T[s]\n",
    "    b0, bp = b[0], b[1:]\n",
    "    return [b0 ^ t] + transduce(bp, s=d[b0])\n",
    "\n",
    "\n",
    "def transduceblock(b):\n",
    "    return bin2block(transduce(block2bin(b)))\n",
    "\n",
    "\n",
    "def swap(b):\n",
    "    l = BLOCK_SIZE // 2\n",
    "    m = (1 << l) - 1\n",
    "    return (b >> l) | ((b & m) << l)\n",
    "\n",
    "\n",
    "class Transducipher:\n",
    "\n",
    "    def __init__(self, k):\n",
    "        self.k = [k]\n",
    "        for i in range(1, len(T)):\n",
    "            k = swap(transduceblock(k))\n",
    "            self.k.append(k)\n",
    "\n",
    "    def encrypt(self, b):\n",
    "    \n",
    "        for i in range(len(T)):\n",
    "            b ^= self.k[i]\n",
    "            t.sleep(0.02)\n",
    "            b = transduceblock(b)\n",
    "            b = swap(b)\n",
    "            \n",
    "        return b\n",
    "\n",
    "\n",
    "if __name__ == \"__main__\":\n",
    "    flag = bytes.hex(os.urandom(BLOCK_SIZE // 8))\n",
    "    k = int(flag, 16)\n",
    "    C = Transducipher(k)\n",
    "    print(\"Your flag is PCTF{%s}\" % flag)\n",
    "    with open(\"data1.txt\", \"w\") as f:\n",
    "        for i in range(16):\n",
    "            pt = int(bytes.hex(os.urandom(BLOCK_SIZE // 8)), 16)\n",
    "            ct = C.encrypt(pt)\n",
    "            print(\"Ciphertext:%d\\t key is:%d\\t\" %(pt, ct))\n",
    "            f.write(str((pt, ct)) + \"\\n\")"
   ]
  },
  {
   "cell_type": "code",
   "execution_count": 4,
   "metadata": {},
   "outputs": [],
   "source": [
    " flag = bytes.hex(os.urandom(BLOCK_SIZE // 8))"
   ]
  },
  {
   "cell_type": "code",
   "execution_count": null,
   "metadata": {},
   "outputs": [],
   "source": [
    "flag"
   ]
  },
  {
   "cell_type": "markdown",
   "metadata": {},
   "source": [
    "|运算次序|明文|密钥|\n",
    "|---|---|---|\n",
    "|1|8049804708231343112|14462488010577813941|\n",
    "|2|14484241819366185752|593736660506608832|\n",
    "|3|11785581524933025147|11013781603609770415|\n",
    "|4|6957109759620465876|4224264294613186292|\n",
    "|5|6215427463185456887|18183916731685725909|\n",
    "|6|7080234525537566195|3253279364993883110|\n",
    "|7|9850875451541265832|17426559700907520643|\n",
    "|8|7036159718562523772|2200026979001952674|\n",
    "|9|12166691994651710565|7434997109502008756|\n",
    "|10|1678094374015249840|15228120556123433295|\n",
    "|11|1712685872509595199|5070459842585437253|\n",
    "|12|15317505121379174990|8052188472254108377|\n",
    "|13|11560719484332713180|3817637530826498967|\n",
    "|14|4504234476919735344|8303718772055363379|\n",
    "|15|3915245871345518185|15639354912929006016|\n",
    "|16|14904750165660017029|9084872934321362546|"
   ]
  },
  {
   "cell_type": "code",
   "execution_count": null,
   "metadata": {},
   "outputs": [],
   "source": []
  }
 ],
 "metadata": {
  "kernelspec": {
   "display_name": "Python 3",
   "language": "python",
   "name": "python3"
  },
  "language_info": {
   "codemirror_mode": {
    "name": "ipython",
    "version": 3
   },
   "file_extension": ".py",
   "mimetype": "text/x-python",
   "name": "python",
   "nbconvert_exporter": "python",
   "pygments_lexer": "ipython3",
   "version": "3.5.2"
  }
 },
 "nbformat": 4,
 "nbformat_minor": 2
}
